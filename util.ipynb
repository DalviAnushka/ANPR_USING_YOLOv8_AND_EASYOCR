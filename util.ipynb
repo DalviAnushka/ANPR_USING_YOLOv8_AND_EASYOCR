{
 "cells": [
  {
   "cell_type": "code",
   "execution_count": 1,
   "metadata": {},
   "outputs": [
    {
     "name": "stdout",
     "output_type": "stream",
     "text": [
      "HELLO\n"
     ]
    }
   ],
   "source": [
    "print(\"HELLO\")"
   ]
  },
  {
   "cell_type": "code",
   "execution_count": 2,
   "metadata": {},
   "outputs": [
    {
     "name": "stdout",
     "output_type": "stream",
     "text": [
      "Requirement already satisfied: easyocr in c:\\users\\dalvi\\appdata\\roaming\\python\\python39\\site-packages (1.7.1)\n",
      "Requirement already satisfied: opencv-python-headless in c:\\users\\dalvi\\appdata\\roaming\\python\\python39\\site-packages (4.9.0.80)\n",
      "Requirement already satisfied: torch in c:\\users\\dalvi\\anaconda3\\envs\\yoloenv\\lib\\site-packages (from easyocr) (2.1.2)\n",
      "Requirement already satisfied: torchvision>=0.5 in c:\\users\\dalvi\\anaconda3\\envs\\yoloenv\\lib\\site-packages (from easyocr) (0.16.2)\n",
      "Requirement already satisfied: scipy in c:\\users\\dalvi\\anaconda3\\envs\\yoloenv\\lib\\site-packages (from easyocr) (1.11.4)\n",
      "Requirement already satisfied: numpy in c:\\users\\dalvi\\anaconda3\\envs\\yoloenv\\lib\\site-packages (from easyocr) (1.26.2)\n",
      "Requirement already satisfied: Pillow in c:\\users\\dalvi\\anaconda3\\envs\\yoloenv\\lib\\site-packages (from easyocr) (10.1.0)\n",
      "Requirement already satisfied: scikit-image in c:\\users\\dalvi\\appdata\\roaming\\python\\python39\\site-packages (from easyocr) (0.22.0)\n",
      "Requirement already satisfied: python-bidi in c:\\users\\dalvi\\anaconda3\\envs\\yoloenv\\lib\\site-packages (from easyocr) (0.4.2)\n",
      "Requirement already satisfied: PyYAML in c:\\users\\dalvi\\anaconda3\\envs\\yoloenv\\lib\\site-packages (from easyocr) (6.0.1)\n",
      "Requirement already satisfied: Shapely in c:\\users\\dalvi\\anaconda3\\envs\\yoloenv\\lib\\site-packages (from easyocr) (2.0.2)\n",
      "Requirement already satisfied: pyclipper in c:\\users\\dalvi\\anaconda3\\envs\\yoloenv\\lib\\site-packages (from easyocr) (1.3.0.post5)\n",
      "Requirement already satisfied: ninja in c:\\users\\dalvi\\anaconda3\\envs\\yoloenv\\lib\\site-packages (from easyocr) (1.11.1.1)\n",
      "Requirement already satisfied: requests in c:\\users\\dalvi\\anaconda3\\envs\\yoloenv\\lib\\site-packages (from torchvision>=0.5->easyocr) (2.31.0)\n",
      "Requirement already satisfied: filelock in c:\\users\\dalvi\\anaconda3\\envs\\yoloenv\\lib\\site-packages (from torch->easyocr) (3.13.1)\n",
      "Requirement already satisfied: typing-extensions in c:\\users\\dalvi\\anaconda3\\envs\\yoloenv\\lib\\site-packages (from torch->easyocr) (4.9.0)\n",
      "Requirement already satisfied: sympy in c:\\users\\dalvi\\anaconda3\\envs\\yoloenv\\lib\\site-packages (from torch->easyocr) (1.12)\n",
      "Requirement already satisfied: networkx in c:\\users\\dalvi\\anaconda3\\envs\\yoloenv\\lib\\site-packages (from torch->easyocr) (3.2.1)\n",
      "Requirement already satisfied: jinja2 in c:\\users\\dalvi\\anaconda3\\envs\\yoloenv\\lib\\site-packages (from torch->easyocr) (3.1.2)\n",
      "Requirement already satisfied: fsspec in c:\\users\\dalvi\\anaconda3\\envs\\yoloenv\\lib\\site-packages (from torch->easyocr) (2023.12.2)\n",
      "Requirement already satisfied: six in c:\\users\\dalvi\\anaconda3\\envs\\yoloenv\\lib\\site-packages (from python-bidi->easyocr) (1.16.0)\n",
      "Requirement already satisfied: imageio>=2.27 in c:\\users\\dalvi\\appdata\\roaming\\python\\python39\\site-packages (from scikit-image->easyocr) (2.33.1)\n",
      "Requirement already satisfied: tifffile>=2022.8.12 in c:\\users\\dalvi\\anaconda3\\envs\\yoloenv\\lib\\site-packages (from scikit-image->easyocr) (2023.12.9)\n",
      "Requirement already satisfied: packaging>=21 in c:\\users\\dalvi\\anaconda3\\envs\\yoloenv\\lib\\site-packages (from scikit-image->easyocr) (23.2)\n",
      "Requirement already satisfied: lazy_loader>=0.3 in c:\\users\\dalvi\\appdata\\roaming\\python\\python39\\site-packages (from scikit-image->easyocr) (0.3)\n",
      "Requirement already satisfied: MarkupSafe>=2.0 in c:\\users\\dalvi\\anaconda3\\envs\\yoloenv\\lib\\site-packages (from jinja2->torch->easyocr) (2.1.3)\n",
      "Requirement already satisfied: charset-normalizer<4,>=2 in c:\\users\\dalvi\\anaconda3\\envs\\yoloenv\\lib\\site-packages (from requests->torchvision>=0.5->easyocr) (3.3.2)\n",
      "Requirement already satisfied: idna<4,>=2.5 in c:\\users\\dalvi\\anaconda3\\envs\\yoloenv\\lib\\site-packages (from requests->torchvision>=0.5->easyocr) (3.6)\n",
      "Requirement already satisfied: urllib3<3,>=1.21.1 in c:\\users\\dalvi\\anaconda3\\envs\\yoloenv\\lib\\site-packages (from requests->torchvision>=0.5->easyocr) (2.1.0)\n",
      "Requirement already satisfied: certifi>=2017.4.17 in c:\\users\\dalvi\\anaconda3\\envs\\yoloenv\\lib\\site-packages (from requests->torchvision>=0.5->easyocr) (2023.11.17)\n",
      "Requirement already satisfied: mpmath>=0.19 in c:\\users\\dalvi\\anaconda3\\envs\\yoloenv\\lib\\site-packages (from sympy->torch->easyocr) (1.3.0)\n",
      "Note: you may need to restart the kernel to use updated packages.\n",
      "Requirement already satisfied: opencv-python-headless in c:\\users\\dalvi\\appdata\\roaming\\python\\python39\\site-packages (4.9.0.80)\n",
      "Requirement already satisfied: numpy>=1.17.0 in c:\\users\\dalvi\\anaconda3\\envs\\yoloenv\\lib\\site-packages (from opencv-python-headless) (1.26.2)\n",
      "Note: you may need to restart the kernel to use updated packages.\n"
     ]
    }
   ],
   "source": [
    "%pip install --user easyocr opencv-python-headless\n",
    "\n",
    "%pip install --user opencv-python-headless"
   ]
  },
  {
   "cell_type": "code",
   "execution_count": 3,
   "metadata": {},
   "outputs": [
    {
     "name": "stderr",
     "output_type": "stream",
     "text": [
      "Using CPU. Note: This module is much faster with a GPU.\n"
     ]
    }
   ],
   "source": [
    "import string\n",
    "import easyocr\n",
    "\n",
    "# Initialize the OCR reader\n",
    "reader = easyocr.Reader(['en'], gpu=False)\n",
    "\n",
    "# Mapping dictionaries for character conversion\n",
    "dict_char_to_int = {'O': '0',\n",
    "                    'I': '1',\n",
    "                    'J': '3',\n",
    "                    'A': '4',\n",
    "                    'G': '6',\n",
    "                    'S': '5'}\n",
    "\n",
    "dict_int_to_char = {'0': 'O',\n",
    "                    '1': 'I',\n",
    "                    '3': 'J',\n",
    "                    '4': 'A',\n",
    "                    '6': 'G',\n",
    "                    '5': 'S'}"
   ]
  },
  {
   "cell_type": "code",
   "execution_count": 4,
   "metadata": {},
   "outputs": [],
   "source": [
    "def write_csv(results, output_path):\n",
    "    \"\"\"\n",
    "    Write the results to a CSV file.\n",
    "\n",
    "    Args:\n",
    "        results (dict): Dictionary containing the results.\n",
    "        output_path (str): Path to the output CSV file.\n",
    "    \"\"\"\n",
    "    with open(output_path, 'w') as f:\n",
    "        f.write('{},{},{},{},{},{},{}\\n'.format('frame_nmr', 'car_id', 'car_bbox',\n",
    "                                                'license_plate_bbox', 'license_plate_bbox_score', 'license_number',\n",
    "                                                'license_number_score'))\n",
    "        for frame_nmr in results.keys():\n",
    "            for car_id in results[frame_nmr].keys():\n",
    "                print(results[frame_nmr][car_id])\n",
    "                if 'car' in results[frame_nmr][car_id].keys() and \\\n",
    "                   'license_plate' in results[frame_nmr][car_id].keys() and \\\n",
    "                   'text' in results[frame_nmr][car_id]['license_plate'].keys():\n",
    "                    f.write('{},{},{},{},{},{},{}\\n'.format(frame_nmr,\n",
    "                                                            car_id,\n",
    "                                                            '[{} {} {} {}]'.format(\n",
    "                                                                results[frame_nmr][car_id]['car']['bbox'][0],\n",
    "                                                                results[frame_nmr][car_id]['car']['bbox'][1],\n",
    "                                                                results[frame_nmr][car_id]['car']['bbox'][2],\n",
    "                                                                results[frame_nmr][car_id]['car']['bbox'][3]),\n",
    "                                                            '[{} {} {} {}]'.format(\n",
    "                                                                results[frame_nmr][car_id]['license_plate']['bbox'][0],\n",
    "                                                                results[frame_nmr][car_id]['license_plate']['bbox'][1],\n",
    "                                                                results[frame_nmr][car_id]['license_plate']['bbox'][2],\n",
    "                                                                results[frame_nmr][car_id]['license_plate']['bbox'][3]),\n",
    "                                                            results[frame_nmr][car_id]['license_plate']['bbox_score'],\n",
    "                                                            results[frame_nmr][car_id]['license_plate']['text'],\n",
    "                                                            results[frame_nmr][car_id]['license_plate']['text_score'])\n",
    "                            )\n",
    "        f.close()\n"
   ]
  },
  {
   "cell_type": "code",
   "execution_count": 5,
   "metadata": {},
   "outputs": [],
   "source": [
    "def license_complies_format(text):\n",
    "    \"\"\"\n",
    "    Check if the license plate text complies with the required format.\n",
    "\n",
    "    Args:\n",
    "        text (str): License plate text.\n",
    "\n",
    "    Returns:\n",
    "        bool: True if the license plate complies with the format, False otherwise.\n",
    "    \"\"\"\n",
    "    if len(text) != 7:\n",
    "        return False\n",
    "\n",
    "    if (text[0] in string.ascii_uppercase or text[0] in dict_int_to_char.keys()) and \\\n",
    "       (text[1] in string.ascii_uppercase or text[1] in dict_int_to_char.keys()) and \\\n",
    "       (text[2] in ['0', '1', '2', '3', '4', '5', '6', '7', '8', '9'] or text[2] in dict_char_to_int.keys()) and \\\n",
    "       (text[3] in ['0', '1', '2', '3', '4', '5', '6', '7', '8', '9'] or text[3] in dict_char_to_int.keys()) and \\\n",
    "       (text[4] in string.ascii_uppercase or text[4] in dict_int_to_char.keys()) and \\\n",
    "       (text[5] in string.ascii_uppercase or text[5] in dict_int_to_char.keys()) and \\\n",
    "       (text[6] in string.ascii_uppercase or text[6] in dict_int_to_char.keys()):\n",
    "        return True\n",
    "    else:\n",
    "        return False\n"
   ]
  },
  {
   "cell_type": "code",
   "execution_count": 6,
   "metadata": {},
   "outputs": [],
   "source": [
    "def format_license(text):\n",
    "    \"\"\"\n",
    "    Format the license plate text by converting characters using the mapping dictionaries.\n",
    "\n",
    "    Args:\n",
    "        text (str): License plate text.\n",
    "\n",
    "    Returns:\n",
    "        str: Formatted license plate text.\n",
    "    \"\"\"\n",
    "    license_plate_ = ''\n",
    "    mapping = {0: dict_int_to_char, 1: dict_int_to_char, 4: dict_int_to_char, 5: dict_int_to_char, 6: dict_int_to_char,\n",
    "               2: dict_char_to_int, 3: dict_char_to_int}\n",
    "    for j in [0, 1, 2, 3, 4, 5, 6]:\n",
    "        if text[j] in mapping[j].keys():\n",
    "            license_plate_ += mapping[j][text[j]]\n",
    "        else:\n",
    "            license_plate_ += text[j]\n",
    "\n",
    "    return license_plate_\n"
   ]
  },
  {
   "cell_type": "code",
   "execution_count": 7,
   "metadata": {},
   "outputs": [],
   "source": [
    "def read_license_plate(license_plate_crop):\n",
    "    \"\"\"\n",
    "    Read the license plate text from the given cropped image.\n",
    "\n",
    "    Args:\n",
    "        license_plate_crop (PIL.Image.Image): Cropped image containing the license plate.\n",
    "\n",
    "    Returns:\n",
    "        tuple: Tuple containing the formatted license plate text and its confidence score.\n",
    "    \"\"\"\n",
    "\n",
    "    detections = reader.readtext(license_plate_crop)\n",
    "\n",
    "    for detection in detections:\n",
    "        bbox, text, score = detection\n",
    "\n",
    "        text = text.upper().replace(' ', '')\n",
    "\n",
    "        if license_complies_format(text):\n",
    "            return format_license(text), score\n",
    "\n",
    "    return None, None\n",
    "\n"
   ]
  },
  {
   "cell_type": "code",
   "execution_count": 8,
   "metadata": {},
   "outputs": [],
   "source": [
    "def get_car(license_plate, vehicle_track_ids):\n",
    "    \"\"\"\n",
    "    Retrieve the vehicle coordinates and ID based on the license plate coordinates.\n",
    "\n",
    "    Args:\n",
    "        license_plate (tuple): Tuple containing the coordinates of the license plate (x1, y1, x2, y2, score, class_id).\n",
    "        vehicle_track_ids (list): List of vehicle track IDs and their corresponding coordinates.\n",
    "\n",
    "    Returns:\n",
    "        tuple: Tuple containing the vehicle coordinates (x1, y1, x2, y2) and ID.\n",
    "    \"\"\"\n",
    "    x1, y1, x2, y2, score, class_id = license_plate\n",
    "\n",
    "    foundIt = False\n",
    "    for j in range(len(vehicle_track_ids)):\n",
    "        xcar1, ycar1, xcar2, ycar2, car_id = vehicle_track_ids[j]\n",
    "\n",
    "        if x1 > xcar1 and y1 > ycar1 and x2 < xcar2 and y2 < ycar2:\n",
    "            car_indx = j\n",
    "            foundIt = True\n",
    "            break\n",
    "\n",
    "    if foundIt:\n",
    "        return vehicle_track_ids[car_indx]\n",
    "\n",
    "    return -1, -1, -1, -1, -1"
   ]
  }
 ],
 "metadata": {
  "kernelspec": {
   "display_name": "Python 3",
   "language": "python",
   "name": "python3"
  },
  "language_info": {
   "codemirror_mode": {
    "name": "ipython",
    "version": 3
   },
   "file_extension": ".py",
   "mimetype": "text/x-python",
   "name": "python",
   "nbconvert_exporter": "python",
   "pygments_lexer": "ipython3",
   "version": "3.9.18"
  }
 },
 "nbformat": 4,
 "nbformat_minor": 2
}
